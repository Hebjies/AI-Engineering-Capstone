{
 "cells": [
  {
   "cell_type": "markdown",
   "metadata": {
    "button": false,
    "deletable": true,
    "new_sheet": false,
    "run_control": {
     "read_only": false
    }
   },
   "source": [
    "<a href=\"https://cognitiveclass.ai\"><img src = \"https://s3-api.us-geo.objectstorage.softlayer.net/cf-courses-data/CognitiveClass/Logos/organization_logo/organization_logo.png\" width = 400> </a>\n",
    "\n",
    "<h1 align=center><font size = 5>Peer Review Final Assignment</font></h1>"
   ]
  },
  {
   "cell_type": "markdown",
   "metadata": {
    "button": false,
    "deletable": true,
    "new_sheet": false,
    "run_control": {
     "read_only": false
    }
   },
   "source": [
    "## Introduction\n"
   ]
  },
  {
   "cell_type": "markdown",
   "metadata": {
    "button": false,
    "deletable": true,
    "new_sheet": false,
    "run_control": {
     "read_only": false
    }
   },
   "source": [
    "In this lab, you will build an image classifier using the VGG16 pre-trained model, and you will evaluate it and compare its performance to the model we built in the last module using the ResNet50 pre-trained model. Good luck!"
   ]
  },
  {
   "cell_type": "markdown",
   "metadata": {
    "button": false,
    "deletable": true,
    "new_sheet": false,
    "run_control": {
     "read_only": false
    }
   },
   "source": [
    "## Table of Contents\n",
    "\n",
    "<div class=\"alert alert-block alert-info\" style=\"margin-top: 20px\">\n",
    "\n",
    "<font size = 3>    \n",
    "\n",
    "1. <a href=\"#item41\">Download Data \n",
    "2. <a href=\"#item42\">Part 1</a>\n",
    "3. <a href=\"#item43\">Part 2</a>  \n",
    "4. <a href=\"#item44\">Part 3</a>  \n",
    "\n",
    "</font>\n",
    "    \n",
    "</div>"
   ]
  },
  {
   "cell_type": "markdown",
   "metadata": {
    "button": false,
    "deletable": true,
    "new_sheet": false,
    "run_control": {
     "read_only": false
    }
   },
   "source": [
    "   "
   ]
  },
  {
   "cell_type": "markdown",
   "metadata": {},
   "source": [
    "<a id=\"item41\"></a>"
   ]
  },
  {
   "cell_type": "markdown",
   "metadata": {},
   "source": [
    "## Download Data"
   ]
  },
  {
   "cell_type": "markdown",
   "metadata": {},
   "source": [
    "Use the <code>wget</code> command to download the data for this assignment from here: https://s3-api.us-geo.objectstorage.softlayer.net/cf-courses-data/CognitiveClass/DL0321EN/data/concrete_data_week4.zip"
   ]
  },
  {
   "cell_type": "markdown",
   "metadata": {},
   "source": [
    "Use the following cells to download the data."
   ]
  },
  {
   "cell_type": "code",
   "execution_count": 3,
   "metadata": {
    "execution": {
     "iopub.execute_input": "2023-03-05T18:53:33.896883Z",
     "iopub.status.busy": "2023-03-05T18:53:33.896533Z",
     "iopub.status.idle": "2023-03-05T18:53:33.902606Z",
     "shell.execute_reply": "2023-03-05T18:53:33.901470Z",
     "shell.execute_reply.started": "2023-03-05T18:53:33.896844Z"
    }
   },
   "outputs": [],
   "source": [
    "import wget"
   ]
  },
  {
   "cell_type": "code",
   "execution_count": 4,
   "metadata": {
    "execution": {
     "iopub.execute_input": "2023-03-05T18:53:35.082045Z",
     "iopub.status.busy": "2023-03-05T18:53:35.081734Z",
     "iopub.status.idle": "2023-03-05T18:53:43.520615Z",
     "shell.execute_reply": "2023-03-05T18:53:43.519655Z",
     "shell.execute_reply.started": "2023-03-05T18:53:35.082020Z"
    }
   },
   "outputs": [],
   "source": [
    "url = 'https://s3-api.us-geo.objectstorage.softlayer.net/cf-courses-data/CognitiveClass/DL0321EN/data/concrete_data_week4.zip'\n",
    "\n",
    "data = wget.download(url)"
   ]
  },
  {
   "cell_type": "markdown",
   "metadata": {},
   "source": [
    "After you unzip the data, you fill find the data has already been divided into a train, validation, and test sets."
   ]
  },
  {
   "cell_type": "markdown",
   "metadata": {},
   "source": [
    "  "
   ]
  },
  {
   "cell_type": "markdown",
   "metadata": {
    "button": false,
    "deletable": true,
    "new_sheet": false,
    "run_control": {
     "read_only": false
    }
   },
   "source": [
    "<a id=\"item42\"></a>"
   ]
  },
  {
   "cell_type": "markdown",
   "metadata": {},
   "source": [
    "## Part 1"
   ]
  },
  {
   "cell_type": "markdown",
   "metadata": {},
   "source": [
    "In this part, you will design a classifier using the VGG16 pre-trained model. Just like the ResNet50 model, you can import the model <code>VGG16</code> from <code>keras.applications</code>."
   ]
  },
  {
   "cell_type": "markdown",
   "metadata": {},
   "source": [
    "You will essentially build your classifier as follows:\n",
    "1. Import libraries, modules, and packages you will need. Make sure to import the *preprocess_input* function from <code>keras.applications.vgg16</code>.\n",
    "2. Use a batch size of 100 images for both training and validation.\n",
    "3. Construct an ImageDataGenerator for the training set and another one for the validation set. VGG16 was originally trained on 224 × 224 images, so make sure to address that when defining the ImageDataGenerator instances.\n",
    "4. Create a sequential model using Keras. Add VGG16 model to it and dense layer.\n",
    "5. Compile the mode using the adam optimizer and the categorical_crossentropy loss function.\n",
    "6. Fit the model on the augmented data using the ImageDataGenerators."
   ]
  },
  {
   "cell_type": "markdown",
   "metadata": {},
   "source": [
    "Use the following cells to create your classifier."
   ]
  },
  {
   "cell_type": "code",
   "execution_count": 19,
   "metadata": {
    "execution": {
     "iopub.execute_input": "2023-03-05T19:24:11.168840Z",
     "iopub.status.busy": "2023-03-05T19:24:11.168501Z",
     "iopub.status.idle": "2023-03-05T19:24:11.173480Z",
     "shell.execute_reply": "2023-03-05T19:24:11.172505Z",
     "shell.execute_reply.started": "2023-03-05T19:24:11.168817Z"
    }
   },
   "outputs": [],
   "source": [
    "import keras\n",
    "from keras.layers import Dense\n",
    "from keras.models import load_model\n",
    "from keras.models import Sequential\n",
    "from keras.applications import VGG16\n",
    "from keras.applications.vgg16 import preprocess_input\n",
    "from keras.preprocessing.image import ImageDataGenerator"
   ]
  },
  {
   "cell_type": "code",
   "execution_count": 2,
   "metadata": {
    "execution": {
     "iopub.execute_input": "2023-03-05T19:12:47.999581Z",
     "iopub.status.busy": "2023-03-05T19:12:47.998456Z",
     "iopub.status.idle": "2023-03-05T19:12:48.003250Z",
     "shell.execute_reply": "2023-03-05T19:12:48.002579Z",
     "shell.execute_reply.started": "2023-03-05T19:12:47.999550Z"
    }
   },
   "outputs": [],
   "source": [
    "num_classes = 2\n",
    "\n",
    "image_resize = 224\n",
    "\n",
    "batch_size_training = 100\n",
    "batch_size_validation = 100"
   ]
  },
  {
   "cell_type": "code",
   "execution_count": 3,
   "metadata": {
    "execution": {
     "iopub.execute_input": "2023-03-05T19:12:48.004847Z",
     "iopub.status.busy": "2023-03-05T19:12:48.004158Z",
     "iopub.status.idle": "2023-03-05T19:12:48.008356Z",
     "shell.execute_reply": "2023-03-05T19:12:48.007385Z",
     "shell.execute_reply.started": "2023-03-05T19:12:48.004825Z"
    },
    "scrolled": true
   },
   "outputs": [],
   "source": [
    "data_generator = ImageDataGenerator(\n",
    "    preprocessing_function=preprocess_input,\n",
    ")"
   ]
  },
  {
   "cell_type": "code",
   "execution_count": 4,
   "metadata": {
    "execution": {
     "iopub.execute_input": "2023-03-05T19:12:49.298195Z",
     "iopub.status.busy": "2023-03-05T19:12:49.297819Z",
     "iopub.status.idle": "2023-03-05T19:12:50.090964Z",
     "shell.execute_reply": "2023-03-05T19:12:50.090004Z",
     "shell.execute_reply.started": "2023-03-05T19:12:49.298171Z"
    }
   },
   "outputs": [
    {
     "name": "stdout",
     "output_type": "stream",
     "text": [
      "Found 30001 images belonging to 2 classes.\n"
     ]
    }
   ],
   "source": [
    "train_generator = data_generator.flow_from_directory(\n",
    "    'concrete_data_week4/train',\n",
    "    target_size=(image_resize, image_resize),\n",
    "    batch_size=batch_size_training,\n",
    "    class_mode='categorical')"
   ]
  },
  {
   "cell_type": "code",
   "execution_count": 5,
   "metadata": {
    "execution": {
     "iopub.execute_input": "2023-03-05T19:12:52.000058Z",
     "iopub.status.busy": "2023-03-05T19:12:51.999383Z",
     "iopub.status.idle": "2023-03-05T19:12:52.234188Z",
     "shell.execute_reply": "2023-03-05T19:12:52.233302Z",
     "shell.execute_reply.started": "2023-03-05T19:12:52.000032Z"
    }
   },
   "outputs": [
    {
     "name": "stdout",
     "output_type": "stream",
     "text": [
      "Found 9501 images belonging to 2 classes.\n"
     ]
    }
   ],
   "source": [
    "validation_generator = data_generator.flow_from_directory(\n",
    "    'concrete_data_week4/valid',\n",
    "    target_size=(image_resize, image_resize),\n",
    "    batch_size=batch_size_validation,\n",
    "    class_mode='categorical')"
   ]
  },
  {
   "cell_type": "code",
   "execution_count": 6,
   "metadata": {
    "execution": {
     "iopub.execute_input": "2023-03-05T19:12:53.854081Z",
     "iopub.status.busy": "2023-03-05T19:12:53.853552Z",
     "iopub.status.idle": "2023-03-05T19:12:55.157785Z",
     "shell.execute_reply": "2023-03-05T19:12:55.156970Z",
     "shell.execute_reply.started": "2023-03-05T19:12:53.854044Z"
    }
   },
   "outputs": [],
   "source": [
    "model = Sequential()"
   ]
  },
  {
   "cell_type": "code",
   "execution_count": 7,
   "metadata": {
    "execution": {
     "iopub.execute_input": "2023-03-05T19:12:56.229300Z",
     "iopub.status.busy": "2023-03-05T19:12:56.228951Z",
     "iopub.status.idle": "2023-03-05T19:12:56.685441Z",
     "shell.execute_reply": "2023-03-05T19:12:56.684512Z",
     "shell.execute_reply.started": "2023-03-05T19:12:56.229275Z"
    }
   },
   "outputs": [],
   "source": [
    "model.add(VGG16(\n",
    "    include_top=False,\n",
    "    pooling='avg',\n",
    "    weights='imagenet',\n",
    "    ))"
   ]
  },
  {
   "cell_type": "code",
   "execution_count": 8,
   "metadata": {
    "execution": {
     "iopub.execute_input": "2023-03-05T19:12:57.671890Z",
     "iopub.status.busy": "2023-03-05T19:12:57.671462Z",
     "iopub.status.idle": "2023-03-05T19:12:57.696226Z",
     "shell.execute_reply": "2023-03-05T19:12:57.695206Z",
     "shell.execute_reply.started": "2023-03-05T19:12:57.671808Z"
    }
   },
   "outputs": [],
   "source": [
    "model.add(Dense(512,activation='relu'))\n",
    "model.add(Dense(num_classes, activation='softmax'))"
   ]
  },
  {
   "cell_type": "code",
   "execution_count": 9,
   "metadata": {
    "execution": {
     "iopub.execute_input": "2023-03-05T19:12:58.539094Z",
     "iopub.status.busy": "2023-03-05T19:12:58.538685Z",
     "iopub.status.idle": "2023-03-05T19:12:58.544550Z",
     "shell.execute_reply": "2023-03-05T19:12:58.543653Z",
     "shell.execute_reply.started": "2023-03-05T19:12:58.539054Z"
    }
   },
   "outputs": [],
   "source": [
    "model.layers[0].trainable = False"
   ]
  },
  {
   "cell_type": "code",
   "execution_count": 10,
   "metadata": {
    "execution": {
     "iopub.execute_input": "2023-03-05T19:13:00.191947Z",
     "iopub.status.busy": "2023-03-05T19:13:00.191558Z",
     "iopub.status.idle": "2023-03-05T19:13:00.208774Z",
     "shell.execute_reply": "2023-03-05T19:13:00.207939Z",
     "shell.execute_reply.started": "2023-03-05T19:13:00.191923Z"
    }
   },
   "outputs": [
    {
     "name": "stdout",
     "output_type": "stream",
     "text": [
      "Model: \"sequential\"\n",
      "_________________________________________________________________\n",
      " Layer (type)                Output Shape              Param #   \n",
      "=================================================================\n",
      " vgg16 (Functional)          (None, 512)               14714688  \n",
      "                                                                 \n",
      " dense (Dense)               (None, 512)               262656    \n",
      "                                                                 \n",
      " dense_1 (Dense)             (None, 2)                 1026      \n",
      "                                                                 \n",
      "=================================================================\n",
      "Total params: 14,978,370\n",
      "Trainable params: 263,682\n",
      "Non-trainable params: 14,714,688\n",
      "_________________________________________________________________\n"
     ]
    }
   ],
   "source": [
    "model.summary()"
   ]
  },
  {
   "cell_type": "code",
   "execution_count": 15,
   "metadata": {
    "execution": {
     "iopub.execute_input": "2023-03-05T19:14:35.288657Z",
     "iopub.status.busy": "2023-03-05T19:14:35.288294Z",
     "iopub.status.idle": "2023-03-05T19:14:35.321696Z",
     "shell.execute_reply": "2023-03-05T19:14:35.320739Z",
     "shell.execute_reply.started": "2023-03-05T19:14:35.288622Z"
    }
   },
   "outputs": [],
   "source": [
    "model.compile(optimizer='adam', loss='categorical_crossentropy', metrics=['accuracy', keras.metrics.Precision(), keras.metrics.Recall(), keras.metrics.FalsePositives()])"
   ]
  },
  {
   "cell_type": "code",
   "execution_count": 16,
   "metadata": {
    "execution": {
     "iopub.execute_input": "2023-03-05T19:14:37.211634Z",
     "iopub.status.busy": "2023-03-05T19:14:37.211248Z",
     "iopub.status.idle": "2023-03-05T19:14:37.216030Z",
     "shell.execute_reply": "2023-03-05T19:14:37.215172Z",
     "shell.execute_reply.started": "2023-03-05T19:14:37.211609Z"
    }
   },
   "outputs": [],
   "source": [
    "steps_per_epoch_training = len(train_generator)\n",
    "steps_per_epoch_validation = len(validation_generator)\n",
    "num_epochs = 2"
   ]
  },
  {
   "cell_type": "code",
   "execution_count": 17,
   "metadata": {
    "execution": {
     "iopub.execute_input": "2023-03-05T19:14:38.648021Z",
     "iopub.status.busy": "2023-03-05T19:14:38.647580Z",
     "iopub.status.idle": "2023-03-05T19:19:42.486407Z",
     "shell.execute_reply": "2023-03-05T19:19:42.485463Z",
     "shell.execute_reply.started": "2023-03-05T19:14:38.647996Z"
    }
   },
   "outputs": [
    {
     "name": "stderr",
     "output_type": "stream",
     "text": [
      "/tmp/ipykernel_123/251737888.py:1: UserWarning: `Model.fit_generator` is deprecated and will be removed in a future version. Please use `Model.fit`, which supports generators.\n",
      "  fit_history = model.fit_generator(\n"
     ]
    },
    {
     "name": "stdout",
     "output_type": "stream",
     "text": [
      "Epoch 1/2\n",
      "301/301 [==============================] - 158s 491ms/step - loss: 0.0160 - accuracy: 0.9941 - precision: 0.9941 - recall: 0.9941 - false_positives: 176.0000 - val_loss: 0.0055 - val_accuracy: 0.9986 - val_precision: 0.9986 - val_recall: 0.9986 - val_false_positives: 13.0000\n",
      "Epoch 2/2\n",
      "301/301 [==============================] - 146s 484ms/step - loss: 0.0048 - accuracy: 0.9988 - precision: 0.9988 - recall: 0.9988 - false_positives: 35.0000 - val_loss: 0.0059 - val_accuracy: 0.9985 - val_precision: 0.9985 - val_recall: 0.9985 - val_false_positives: 14.0000\n"
     ]
    }
   ],
   "source": [
    "fit_history = model.fit_generator(\n",
    "    train_generator,\n",
    "    steps_per_epoch=steps_per_epoch_training,\n",
    "    epochs=num_epochs,\n",
    "    validation_data=validation_generator,\n",
    "    validation_steps=steps_per_epoch_validation,\n",
    "    verbose=1,\n",
    ")"
   ]
  },
  {
   "cell_type": "code",
   "execution_count": 18,
   "metadata": {
    "execution": {
     "iopub.execute_input": "2023-03-05T19:20:21.951437Z",
     "iopub.status.busy": "2023-03-05T19:20:21.951068Z",
     "iopub.status.idle": "2023-03-05T19:20:22.124376Z",
     "shell.execute_reply": "2023-03-05T19:20:22.123350Z",
     "shell.execute_reply.started": "2023-03-05T19:20:21.951400Z"
    }
   },
   "outputs": [],
   "source": [
    "model.save('classifier_vgg16_model.h5')"
   ]
  },
  {
   "cell_type": "markdown",
   "metadata": {},
   "source": [
    "   "
   ]
  },
  {
   "cell_type": "markdown",
   "metadata": {},
   "source": [
    "<a id=\"item43\"></a>"
   ]
  },
  {
   "cell_type": "markdown",
   "metadata": {},
   "source": [
    "## Part 2"
   ]
  },
  {
   "cell_type": "markdown",
   "metadata": {},
   "source": [
    "In this part, you will evaluate your deep learning models on a test data. For this part, you will need to do the following:\n",
    "\n",
    "1. Load your saved model that was built using the ResNet50 model. \n",
    "2. Construct an ImageDataGenerator for the test set. For this ImageDataGenerator instance, you only need to pass the directory of the test images, target size, and the **shuffle** parameter and set it to False.\n",
    "3. Use the **evaluate_generator** method to evaluate your models on the test data, by passing the above ImageDataGenerator as an argument. You can learn more about **evaluate_generator** [here](https://keras.io/models/sequential/).\n",
    "4. Print the performance of the classifier using the VGG16 pre-trained model.\n",
    "5. Print the performance of the classifier using the ResNet pre-trained model.\n"
   ]
  },
  {
   "cell_type": "markdown",
   "metadata": {},
   "source": [
    "Use the following cells to evaluate your models."
   ]
  },
  {
   "cell_type": "code",
   "execution_count": 22,
   "metadata": {
    "execution": {
     "iopub.execute_input": "2023-03-05T19:26:43.758357Z",
     "iopub.status.busy": "2023-03-05T19:26:43.757372Z",
     "iopub.status.idle": "2023-03-05T19:26:46.242087Z",
     "shell.execute_reply": "2023-03-05T19:26:46.241251Z",
     "shell.execute_reply.started": "2023-03-05T19:26:43.758326Z"
    }
   },
   "outputs": [
    {
     "name": "stdout",
     "output_type": "stream",
     "text": [
      "WARNING:tensorflow:Error in loading the saved optimizer state. As a result, your model is starting with a freshly initialized optimizer.\n"
     ]
    }
   ],
   "source": [
    "resnet = load_model('classifier_resnet_model.h5')\n",
    "vgg16 = load_model('classifier_vgg16_model.h5')"
   ]
  },
  {
   "cell_type": "code",
   "execution_count": 25,
   "metadata": {
    "execution": {
     "iopub.execute_input": "2023-03-05T19:29:34.010218Z",
     "iopub.status.busy": "2023-03-05T19:29:34.009849Z",
     "iopub.status.idle": "2023-03-05T19:29:34.033211Z",
     "shell.execute_reply": "2023-03-05T19:29:34.032395Z",
     "shell.execute_reply.started": "2023-03-05T19:29:34.010193Z"
    }
   },
   "outputs": [
    {
     "name": "stdout",
     "output_type": "stream",
     "text": [
      "Found 500 images belonging to 2 classes.\n"
     ]
    }
   ],
   "source": [
    "test_generator = data_generator.flow_from_directory(\n",
    "    'concrete_data_week4/test',\n",
    "    target_size=(image_resize, image_resize),\n",
    "    batch_size=batch_size_validation,\n",
    "    class_mode='categorical',\n",
    "    shuffle = False)"
   ]
  },
  {
   "cell_type": "code",
   "execution_count": 26,
   "metadata": {
    "execution": {
     "iopub.execute_input": "2023-03-05T19:30:22.959652Z",
     "iopub.status.busy": "2023-03-05T19:30:22.958985Z",
     "iopub.status.idle": "2023-03-05T19:30:26.811037Z",
     "shell.execute_reply": "2023-03-05T19:30:26.810206Z",
     "shell.execute_reply.started": "2023-03-05T19:30:22.959626Z"
    }
   },
   "outputs": [
    {
     "name": "stderr",
     "output_type": "stream",
     "text": [
      "/tmp/ipykernel_123/1223150659.py:1: UserWarning: `Model.evaluate_generator` is deprecated and will be removed in a future version. Please use `Model.evaluate`, which supports generators.\n",
      "  vgg_result = vgg16.evaluate_generator(test_generator)\n"
     ]
    }
   ],
   "source": [
    "vgg_result = vgg16.evaluate_generator(test_generator)"
   ]
  },
  {
   "cell_type": "code",
   "execution_count": 33,
   "metadata": {
    "execution": {
     "iopub.execute_input": "2023-03-05T19:35:43.761252Z",
     "iopub.status.busy": "2023-03-05T19:35:43.760754Z",
     "iopub.status.idle": "2023-03-05T19:35:43.770557Z",
     "shell.execute_reply": "2023-03-05T19:35:43.768045Z",
     "shell.execute_reply.started": "2023-03-05T19:35:43.761218Z"
    }
   },
   "outputs": [
    {
     "name": "stdout",
     "output_type": "stream",
     "text": [
      "VGG16 model evaluate on test data results\n",
      "Loss: 0.003\n",
      "Accuracy: 1.000\n",
      "Precision: 1.000\n",
      "Recall: 1.000\n"
     ]
    }
   ],
   "source": [
    "print(\"VGG16 model evaluate on test data results\")\n",
    "print(\"Loss: {:.3f}\".format(vgg_result[0]))\n",
    "print(\"Accuracy: {:.3f}\".format(vgg_result[1]))\n",
    "print(\"Precision: {:.3f}\".format(vgg_result[2]))\n",
    "print(\"Recall: {:.3f}\".format(vgg_result[3]))"
   ]
  },
  {
   "cell_type": "code",
   "execution_count": 35,
   "metadata": {
    "execution": {
     "iopub.execute_input": "2023-03-05T19:36:55.374104Z",
     "iopub.status.busy": "2023-03-05T19:36:55.373742Z",
     "iopub.status.idle": "2023-03-05T19:36:57.234304Z",
     "shell.execute_reply": "2023-03-05T19:36:57.233418Z",
     "shell.execute_reply.started": "2023-03-05T19:36:55.374079Z"
    }
   },
   "outputs": [
    {
     "name": "stderr",
     "output_type": "stream",
     "text": [
      "/tmp/ipykernel_123/2908414076.py:1: UserWarning: `Model.evaluate_generator` is deprecated and will be removed in a future version. Please use `Model.evaluate`, which supports generators.\n",
      "  resnet_result = resnet.evaluate_generator(test_generator)\n"
     ]
    }
   ],
   "source": [
    "resnet_result = resnet.evaluate_generator(test_generator)"
   ]
  },
  {
   "cell_type": "code",
   "execution_count": 36,
   "metadata": {
    "execution": {
     "iopub.execute_input": "2023-03-05T19:37:01.850046Z",
     "iopub.status.busy": "2023-03-05T19:37:01.849412Z",
     "iopub.status.idle": "2023-03-05T19:37:01.857040Z",
     "shell.execute_reply": "2023-03-05T19:37:01.855782Z",
     "shell.execute_reply.started": "2023-03-05T19:37:01.850004Z"
    }
   },
   "outputs": [
    {
     "name": "stdout",
     "output_type": "stream",
     "text": [
      "ResNet50 model evaluate on test data results\n",
      "Loss: 0.274\n",
      "Accuracy: 0.882\n"
     ]
    }
   ],
   "source": [
    "print(\"ResNet50 model evaluate on test data results\")\n",
    "print(\"Loss: {:.3f}\".format(resnet_result[0]))\n",
    "print(\"Accuracy: {:.3f}\".format(resnet_result[1]))\n"
   ]
  },
  {
   "cell_type": "markdown",
   "metadata": {},
   "source": [
    "   "
   ]
  },
  {
   "cell_type": "markdown",
   "metadata": {},
   "source": [
    "<a id=\"item44\"></a>"
   ]
  },
  {
   "cell_type": "markdown",
   "metadata": {},
   "source": [
    "## Part 3"
   ]
  },
  {
   "cell_type": "markdown",
   "metadata": {},
   "source": [
    "In this model, you will predict whether the images in the test data are images of cracked concrete or not. You will do the following:\n",
    "\n",
    "1. Use the **predict_generator** method to predict the class of the images in the test data, by passing the test data ImageDataGenerator instance defined in the previous part as an argument. You can learn more about the **predict_generator** method [here](https://keras.io/models/sequential/).\n",
    "2. Report the class predictions of the first five images in the test set. You should print something list this:\n",
    "\n",
    "<center>\n",
    "    <ul style=\"list-style-type:none\">\n",
    "        <li>Positive</li>  \n",
    "        <li>Negative</li> \n",
    "        <li>Positive</li>\n",
    "        <li>Positive</li>\n",
    "        <li>Negative</li>\n",
    "    </ul>\n",
    "</center>"
   ]
  },
  {
   "cell_type": "markdown",
   "metadata": {},
   "source": [
    "Use the following cells to make your predictions."
   ]
  },
  {
   "cell_type": "code",
   "execution_count": 39,
   "metadata": {
    "execution": {
     "iopub.execute_input": "2023-03-05T19:40:56.411063Z",
     "iopub.status.busy": "2023-03-05T19:40:56.410702Z",
     "iopub.status.idle": "2023-03-05T19:40:59.025300Z",
     "shell.execute_reply": "2023-03-05T19:40:59.024381Z",
     "shell.execute_reply.started": "2023-03-05T19:40:56.411037Z"
    }
   },
   "outputs": [
    {
     "name": "stderr",
     "output_type": "stream",
     "text": [
      "/tmp/ipykernel_123/2242298679.py:1: UserWarning: `Model.predict_generator` is deprecated and will be removed in a future version. Please use `Model.predict`, which supports generators.\n",
      "  pred=vgg16.predict_generator(test_generator)\n"
     ]
    }
   ],
   "source": [
    "pred=vgg16.predict_generator(test_generator)"
   ]
  },
  {
   "cell_type": "code",
   "execution_count": 45,
   "metadata": {
    "execution": {
     "iopub.execute_input": "2023-03-05T19:48:07.208542Z",
     "iopub.status.busy": "2023-03-05T19:48:07.208155Z",
     "iopub.status.idle": "2023-03-05T19:48:07.217752Z",
     "shell.execute_reply": "2023-03-05T19:48:07.216132Z",
     "shell.execute_reply.started": "2023-03-05T19:48:07.208506Z"
    }
   },
   "outputs": [],
   "source": [
    "import numpy as np\n",
    "class_prediction = []\n",
    "for i in range(len(pred)):\n",
    "    class_prediction.append(np.argmax(pred[i]))"
   ]
  },
  {
   "cell_type": "code",
   "execution_count": 48,
   "metadata": {
    "execution": {
     "iopub.execute_input": "2023-03-05T19:50:35.262501Z",
     "iopub.status.busy": "2023-03-05T19:50:35.262114Z",
     "iopub.status.idle": "2023-03-05T19:50:35.267742Z",
     "shell.execute_reply": "2023-03-05T19:50:35.266878Z",
     "shell.execute_reply.started": "2023-03-05T19:50:35.262475Z"
    }
   },
   "outputs": [
    {
     "name": "stdout",
     "output_type": "stream",
     "text": [
      "Negative\n",
      "Negative\n",
      "Negative\n",
      "Negative\n",
      "Negative\n"
     ]
    }
   ],
   "source": [
    "first_five = class_prediction[:5]\n",
    "for i in first_five:\n",
    "    if i == 0:\n",
    "        print('Negative')\n",
    "    else:\n",
    "        print('Positive')"
   ]
  },
  {
   "cell_type": "code",
   "execution_count": null,
   "metadata": {},
   "outputs": [],
   "source": []
  },
  {
   "cell_type": "markdown",
   "metadata": {},
   "source": [
    "  "
   ]
  },
  {
   "cell_type": "markdown",
   "metadata": {
    "button": false,
    "deletable": true,
    "new_sheet": false,
    "run_control": {
     "read_only": false
    }
   },
   "source": [
    "### Thank you for completing this lab!\n",
    "\n",
    "This notebook was created by Alex Aklson."
   ]
  },
  {
   "cell_type": "markdown",
   "metadata": {
    "button": false,
    "deletable": true,
    "new_sheet": false,
    "run_control": {
     "read_only": false
    }
   },
   "source": [
    "This notebook is part of a course on **Coursera** called *AI Capstone Project with Deep Learning*. If you accessed this notebook outside the course, you can take this course online by clicking [here](https://cocl.us/DL0321EN_Coursera_Week4_LAB1)."
   ]
  },
  {
   "cell_type": "markdown",
   "metadata": {
    "button": false,
    "deletable": true,
    "new_sheet": false,
    "run_control": {
     "read_only": false
    }
   },
   "source": [
    "<hr>\n",
    "\n",
    "Copyright &copy; 2020 [IBM Developer Skills Network](https://cognitiveclass.ai/?utm_source=bducopyrightlink&utm_medium=dswb&utm_campaign=bdu). This notebook and its source code are released under the terms of the [MIT License](https://bigdatauniversity.com/mit-license/)."
   ]
  }
 ],
 "metadata": {
  "kernelspec": {
   "display_name": "Python 3 (ipykernel)",
   "language": "python",
   "name": "python3"
  },
  "language_info": {
   "codemirror_mode": {
    "name": "ipython",
    "version": 3
   },
   "file_extension": ".py",
   "mimetype": "text/x-python",
   "name": "python",
   "nbconvert_exporter": "python",
   "pygments_lexer": "ipython3",
   "version": "3.9.13"
  }
 },
 "nbformat": 4,
 "nbformat_minor": 4
}
